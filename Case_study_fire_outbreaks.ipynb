{
 "cells": [
  {
   "cell_type": "markdown",
   "id": "0e68f378",
   "metadata": {},
   "source": [
    "# Data collecting, cleaning and manipulation"
   ]
  },
  {
   "cell_type": "markdown",
   "id": "d9369645",
   "metadata": {},
   "source": [
    "## Step one - loading dataset"
   ]
  },
  {
   "cell_type": "code",
   "execution_count": 1,
   "id": "43b2ae01",
   "metadata": {},
   "outputs": [
    {
     "data": {
      "text/html": [
       "<div>\n",
       "<style scoped>\n",
       "    .dataframe tbody tr th:only-of-type {\n",
       "        vertical-align: middle;\n",
       "    }\n",
       "\n",
       "    .dataframe tbody tr th {\n",
       "        vertical-align: top;\n",
       "    }\n",
       "\n",
       "    .dataframe thead th {\n",
       "        text-align: right;\n",
       "    }\n",
       "</style>\n",
       "<table border=\"1\" class=\"dataframe\">\n",
       "  <thead>\n",
       "    <tr style=\"text-align: right;\">\n",
       "      <th></th>\n",
       "      <th>datahora</th>\n",
       "      <th>satelite</th>\n",
       "      <th>pais</th>\n",
       "      <th>estado</th>\n",
       "      <th>municipio</th>\n",
       "      <th>bioma</th>\n",
       "      <th>diasemchuva</th>\n",
       "      <th>precipitacao</th>\n",
       "      <th>riscofogo</th>\n",
       "      <th>latitude</th>\n",
       "      <th>longitude</th>\n",
       "      <th>frp</th>\n",
       "    </tr>\n",
       "  </thead>\n",
       "  <tbody>\n",
       "    <tr>\n",
       "      <th>0</th>\n",
       "      <td>2010/01/01 15:40:00</td>\n",
       "      <td>AQUA_M-T</td>\n",
       "      <td>Brasil</td>\n",
       "      <td>SERGIPE</td>\n",
       "      <td>JAPOATA</td>\n",
       "      <td>Mata Atlantica</td>\n",
       "      <td>NaN</td>\n",
       "      <td>NaN</td>\n",
       "      <td>NaN</td>\n",
       "      <td>-10.347</td>\n",
       "      <td>-36.777</td>\n",
       "      <td>NaN</td>\n",
       "    </tr>\n",
       "    <tr>\n",
       "      <th>1</th>\n",
       "      <td>2010/01/01 15:41:00</td>\n",
       "      <td>AQUA_M-T</td>\n",
       "      <td>Brasil</td>\n",
       "      <td>PERNAMBUCO</td>\n",
       "      <td>PESQUEIRA</td>\n",
       "      <td>Caatinga</td>\n",
       "      <td>NaN</td>\n",
       "      <td>NaN</td>\n",
       "      <td>NaN</td>\n",
       "      <td>-8.442</td>\n",
       "      <td>-36.683</td>\n",
       "      <td>NaN</td>\n",
       "    </tr>\n",
       "    <tr>\n",
       "      <th>2</th>\n",
       "      <td>2010/01/01 15:41:00</td>\n",
       "      <td>AQUA_M-T</td>\n",
       "      <td>Brasil</td>\n",
       "      <td>SERGIPE</td>\n",
       "      <td>PORTO DA FOLHA</td>\n",
       "      <td>Caatinga</td>\n",
       "      <td>NaN</td>\n",
       "      <td>NaN</td>\n",
       "      <td>NaN</td>\n",
       "      <td>-9.861</td>\n",
       "      <td>-37.532</td>\n",
       "      <td>NaN</td>\n",
       "    </tr>\n",
       "    <tr>\n",
       "      <th>3</th>\n",
       "      <td>2010/01/01 15:41:00</td>\n",
       "      <td>AQUA_M-T</td>\n",
       "      <td>Brasil</td>\n",
       "      <td>PERNAMBUCO</td>\n",
       "      <td>PESQUEIRA</td>\n",
       "      <td>Caatinga</td>\n",
       "      <td>NaN</td>\n",
       "      <td>NaN</td>\n",
       "      <td>NaN</td>\n",
       "      <td>-8.445</td>\n",
       "      <td>-36.667</td>\n",
       "      <td>NaN</td>\n",
       "    </tr>\n",
       "    <tr>\n",
       "      <th>4</th>\n",
       "      <td>2010/01/01 17:14:00</td>\n",
       "      <td>AQUA_M-T</td>\n",
       "      <td>Brasil</td>\n",
       "      <td>SANTA CATARINA</td>\n",
       "      <td>SAO JOSE DO CERRITO</td>\n",
       "      <td>Mata Atlantica</td>\n",
       "      <td>NaN</td>\n",
       "      <td>NaN</td>\n",
       "      <td>NaN</td>\n",
       "      <td>-27.542</td>\n",
       "      <td>-50.802</td>\n",
       "      <td>NaN</td>\n",
       "    </tr>\n",
       "  </tbody>\n",
       "</table>\n",
       "</div>"
      ],
      "text/plain": [
       "              datahora  satelite    pais          estado            municipio  \\\n",
       "0  2010/01/01 15:40:00  AQUA_M-T  Brasil         SERGIPE              JAPOATA   \n",
       "1  2010/01/01 15:41:00  AQUA_M-T  Brasil      PERNAMBUCO            PESQUEIRA   \n",
       "2  2010/01/01 15:41:00  AQUA_M-T  Brasil         SERGIPE       PORTO DA FOLHA   \n",
       "3  2010/01/01 15:41:00  AQUA_M-T  Brasil      PERNAMBUCO            PESQUEIRA   \n",
       "4  2010/01/01 17:14:00  AQUA_M-T  Brasil  SANTA CATARINA  SAO JOSE DO CERRITO   \n",
       "\n",
       "            bioma  diasemchuva  precipitacao  riscofogo  latitude  longitude  \\\n",
       "0  Mata Atlantica          NaN           NaN        NaN   -10.347    -36.777   \n",
       "1        Caatinga          NaN           NaN        NaN    -8.442    -36.683   \n",
       "2        Caatinga          NaN           NaN        NaN    -9.861    -37.532   \n",
       "3        Caatinga          NaN           NaN        NaN    -8.445    -36.667   \n",
       "4  Mata Atlantica          NaN           NaN        NaN   -27.542    -50.802   \n",
       "\n",
       "   frp  \n",
       "0  NaN  \n",
       "1  NaN  \n",
       "2  NaN  \n",
       "3  NaN  \n",
       "4  NaN  "
      ]
     },
     "execution_count": 1,
     "metadata": {},
     "output_type": "execute_result"
    }
   ],
   "source": [
    "# To load dataset, we need to import the libraries Pandas (for data manpulation), NumPy (For numerical calculations) and Glob (for reading the files existing in one paste)\n",
    "\n",
    "import pandas as pd\n",
    "import numpy as np\n",
    "from glob import glob\n",
    "\n",
    "\n",
    "archives = sorted(glob('../archive/datasets/*.csv')) #give a list of sorted archives with .csv extension in the datasets paste\n",
    "\n",
    "array = []  #create an array to sort the file's data\n",
    "\n",
    "for count in archives: #create a function to read and append the file's data\n",
    "    df_temp= pd.read_csv(count)\n",
    "    array.append(df_temp)\n",
    "\n",
    "df = pd.concat(array, axis = 0) #concatenate in one data frame\n",
    "\n",
    "df.head()"
   ]
  },
  {
   "cell_type": "code",
   "execution_count": 2,
   "id": "6fc0111f",
   "metadata": {},
   "outputs": [
    {
     "data": {
      "text/html": [
       "<div>\n",
       "<style scoped>\n",
       "    .dataframe tbody tr th:only-of-type {\n",
       "        vertical-align: middle;\n",
       "    }\n",
       "\n",
       "    .dataframe tbody tr th {\n",
       "        vertical-align: top;\n",
       "    }\n",
       "\n",
       "    .dataframe thead th {\n",
       "        text-align: right;\n",
       "    }\n",
       "</style>\n",
       "<table border=\"1\" class=\"dataframe\">\n",
       "  <thead>\n",
       "    <tr style=\"text-align: right;\">\n",
       "      <th></th>\n",
       "      <th>diasemchuva</th>\n",
       "      <th>precipitacao</th>\n",
       "      <th>riscofogo</th>\n",
       "      <th>latitude</th>\n",
       "      <th>longitude</th>\n",
       "      <th>frp</th>\n",
       "    </tr>\n",
       "  </thead>\n",
       "  <tbody>\n",
       "    <tr>\n",
       "      <th>count</th>\n",
       "      <td>1.332642e+06</td>\n",
       "      <td>1.332642e+06</td>\n",
       "      <td>1.332642e+06</td>\n",
       "      <td>2.160585e+06</td>\n",
       "      <td>2.160585e+06</td>\n",
       "      <td>550668.000000</td>\n",
       "    </tr>\n",
       "    <tr>\n",
       "      <th>mean</th>\n",
       "      <td>7.755041e+00</td>\n",
       "      <td>6.945949e-01</td>\n",
       "      <td>-4.435610e+00</td>\n",
       "      <td>-1.013861e+01</td>\n",
       "      <td>-5.145434e+01</td>\n",
       "      <td>61.057242</td>\n",
       "    </tr>\n",
       "    <tr>\n",
       "      <th>std</th>\n",
       "      <td>8.675142e+01</td>\n",
       "      <td>2.960866e+00</td>\n",
       "      <td>7.189280e+01</td>\n",
       "      <td>6.252842e+00</td>\n",
       "      <td>7.422538e+00</td>\n",
       "      <td>133.253760</td>\n",
       "    </tr>\n",
       "    <tr>\n",
       "      <th>min</th>\n",
       "      <td>-9.990000e+02</td>\n",
       "      <td>0.000000e+00</td>\n",
       "      <td>-9.990000e+02</td>\n",
       "      <td>-3.370900e+01</td>\n",
       "      <td>-7.367400e+01</td>\n",
       "      <td>0.000000</td>\n",
       "    </tr>\n",
       "    <tr>\n",
       "      <th>25%</th>\n",
       "      <td>1.000000e+00</td>\n",
       "      <td>0.000000e+00</td>\n",
       "      <td>5.000000e-01</td>\n",
       "      <td>-1.339200e+01</td>\n",
       "      <td>-5.604900e+01</td>\n",
       "      <td>15.200000</td>\n",
       "    </tr>\n",
       "    <tr>\n",
       "      <th>50%</th>\n",
       "      <td>5.000000e+00</td>\n",
       "      <td>0.000000e+00</td>\n",
       "      <td>1.000000e+00</td>\n",
       "      <td>-9.345000e+00</td>\n",
       "      <td>-5.040800e+01</td>\n",
       "      <td>28.200000</td>\n",
       "    </tr>\n",
       "    <tr>\n",
       "      <th>75%</th>\n",
       "      <td>1.500000e+01</td>\n",
       "      <td>1.000000e-01</td>\n",
       "      <td>1.000000e+00</td>\n",
       "      <td>-5.873000e+00</td>\n",
       "      <td>-4.577000e+01</td>\n",
       "      <td>58.600000</td>\n",
       "    </tr>\n",
       "    <tr>\n",
       "      <th>max</th>\n",
       "      <td>1.200000e+02</td>\n",
       "      <td>1.255000e+02</td>\n",
       "      <td>1.000000e+00</td>\n",
       "      <td>5.154000e+00</td>\n",
       "      <td>-3.481600e+01</td>\n",
       "      <td>8589.800000</td>\n",
       "    </tr>\n",
       "  </tbody>\n",
       "</table>\n",
       "</div>"
      ],
      "text/plain": [
       "        diasemchuva  precipitacao     riscofogo      latitude     longitude  \\\n",
       "count  1.332642e+06  1.332642e+06  1.332642e+06  2.160585e+06  2.160585e+06   \n",
       "mean   7.755041e+00  6.945949e-01 -4.435610e+00 -1.013861e+01 -5.145434e+01   \n",
       "std    8.675142e+01  2.960866e+00  7.189280e+01  6.252842e+00  7.422538e+00   \n",
       "min   -9.990000e+02  0.000000e+00 -9.990000e+02 -3.370900e+01 -7.367400e+01   \n",
       "25%    1.000000e+00  0.000000e+00  5.000000e-01 -1.339200e+01 -5.604900e+01   \n",
       "50%    5.000000e+00  0.000000e+00  1.000000e+00 -9.345000e+00 -5.040800e+01   \n",
       "75%    1.500000e+01  1.000000e-01  1.000000e+00 -5.873000e+00 -4.577000e+01   \n",
       "max    1.200000e+02  1.255000e+02  1.000000e+00  5.154000e+00 -3.481600e+01   \n",
       "\n",
       "                 frp  \n",
       "count  550668.000000  \n",
       "mean       61.057242  \n",
       "std       133.253760  \n",
       "min         0.000000  \n",
       "25%        15.200000  \n",
       "50%        28.200000  \n",
       "75%        58.600000  \n",
       "max      8589.800000  "
      ]
     },
     "execution_count": 2,
     "metadata": {},
     "output_type": "execute_result"
    }
   ],
   "source": [
    "df.describe()"
   ]
  },
  {
   "cell_type": "markdown",
   "id": "78069a14",
   "metadata": {},
   "source": [
    "As we see, we don't see so many informations here, let's see how many nulled values we have"
   ]
  },
  {
   "cell_type": "code",
   "execution_count": 3,
   "id": "365fe478",
   "metadata": {},
   "outputs": [
    {
     "data": {
      "text/plain": [
       "datahora              0\n",
       "satelite              0\n",
       "pais                  0\n",
       "estado                0\n",
       "municipio             0\n",
       "bioma                 0\n",
       "diasemchuva      827943\n",
       "precipitacao     827943\n",
       "riscofogo        827943\n",
       "latitude              0\n",
       "longitude             0\n",
       "frp             1609917\n",
       "dtype: int64"
      ]
     },
     "execution_count": 3,
     "metadata": {},
     "output_type": "execute_result"
    }
   ],
   "source": [
    "df.isnull().sum()"
   ]
  },
  {
   "cell_type": "markdown",
   "id": "fbd6af13",
   "metadata": {},
   "source": [
    "The diasemchuva, precipitacao, riscofogo and frp columns are the ones with nulled values"
   ]
  },
  {
   "cell_type": "markdown",
   "id": "d6377a58",
   "metadata": {},
   "source": [
    "## Step two - cleaning the dataset"
   ]
  },
  {
   "cell_type": "markdown",
   "id": "8e8bb567",
   "metadata": {},
   "source": [
    "### Now it's time to preparate the dataset by apply some methods"
   ]
  },
  {
   "cell_type": "markdown",
   "id": "48bb5034",
   "metadata": {},
   "source": [
    "We need to change some columns names in english translation, to facilitate our understanding"
   ]
  },
  {
   "cell_type": "code",
   "execution_count": 4,
   "id": "79c588af",
   "metadata": {},
   "outputs": [
    {
     "data": {
      "text/plain": [
       "Index(['datetime', 'satellite', 'country', 'state', 'county', 'biome',\n",
       "       'daywithoutrain', 'rainfall', 'firerisk', 'latitude', 'longitude',\n",
       "       'frp'],\n",
       "      dtype='object')"
      ]
     },
     "execution_count": 4,
     "metadata": {},
     "output_type": "execute_result"
    }
   ],
   "source": [
    "df = df.rename( columns = {'datahora':'datetime', 'satelite':'satellite', 'pais':'country', 'estado':'state', 'municipio':'county', 'bioma':'biome', 'diasemchuva':'daywithoutrain', 'precipitacao':'rainfall', 'riscofogo':'firerisk'})\n",
    "\n",
    "df.columns"
   ]
  },
  {
   "cell_type": "markdown",
   "id": "47539e6e",
   "metadata": {},
   "source": [
    "After this, let´s begin with our strategy"
   ]
  },
  {
   "cell_type": "markdown",
   "id": "aa3d1970",
   "metadata": {},
   "source": [
    "#### Filter dataframe and change formats"
   ]
  },
  {
   "cell_type": "markdown",
   "id": "d8786a99",
   "metadata": {},
   "source": [
    "To filter our dataframe, we have to consider only countys with the \"amazon\" biome. After the filtering, we change the biome's name for the english translation"
   ]
  },
  {
   "cell_type": "code",
   "execution_count": 5,
   "id": "47e14a35",
   "metadata": {},
   "outputs": [
    {
     "data": {
      "text/plain": [
       "array(['Mata Atlantica', 'Caatinga', 'Pampa', 'Cerrado', 'Amazonia',\n",
       "       'Pantanal'], dtype=object)"
      ]
     },
     "execution_count": 5,
     "metadata": {},
     "output_type": "execute_result"
    }
   ],
   "source": [
    "df['biome'].unique() # let's see what brazilian's biomes are showed "
   ]
  },
  {
   "cell_type": "code",
   "execution_count": 6,
   "id": "26bb840b",
   "metadata": {},
   "outputs": [
    {
     "data": {
      "text/html": [
       "<div>\n",
       "<style scoped>\n",
       "    .dataframe tbody tr th:only-of-type {\n",
       "        vertical-align: middle;\n",
       "    }\n",
       "\n",
       "    .dataframe tbody tr th {\n",
       "        vertical-align: top;\n",
       "    }\n",
       "\n",
       "    .dataframe thead th {\n",
       "        text-align: right;\n",
       "    }\n",
       "</style>\n",
       "<table border=\"1\" class=\"dataframe\">\n",
       "  <thead>\n",
       "    <tr style=\"text-align: right;\">\n",
       "      <th></th>\n",
       "      <th>datetime</th>\n",
       "      <th>satellite</th>\n",
       "      <th>country</th>\n",
       "      <th>state</th>\n",
       "      <th>county</th>\n",
       "      <th>biome</th>\n",
       "      <th>daywithoutrain</th>\n",
       "      <th>rainfall</th>\n",
       "      <th>firerisk</th>\n",
       "      <th>latitude</th>\n",
       "      <th>longitude</th>\n",
       "      <th>frp</th>\n",
       "    </tr>\n",
       "  </thead>\n",
       "  <tbody>\n",
       "    <tr>\n",
       "      <th>15</th>\n",
       "      <td>2010/01/01 17:19:00</td>\n",
       "      <td>AQUA_M-T</td>\n",
       "      <td>Brasil</td>\n",
       "      <td>MATO GROSSO</td>\n",
       "      <td>COLNIZA</td>\n",
       "      <td>Amazon</td>\n",
       "      <td>NaN</td>\n",
       "      <td>NaN</td>\n",
       "      <td>NaN</td>\n",
       "      <td>-9.465</td>\n",
       "      <td>-59.199</td>\n",
       "      <td>NaN</td>\n",
       "    </tr>\n",
       "    <tr>\n",
       "      <th>16</th>\n",
       "      <td>2010/01/01 17:21:00</td>\n",
       "      <td>AQUA_M-T</td>\n",
       "      <td>Brasil</td>\n",
       "      <td>AMAZONAS</td>\n",
       "      <td>TEFE</td>\n",
       "      <td>Amazon</td>\n",
       "      <td>NaN</td>\n",
       "      <td>NaN</td>\n",
       "      <td>NaN</td>\n",
       "      <td>-3.466</td>\n",
       "      <td>-64.524</td>\n",
       "      <td>NaN</td>\n",
       "    </tr>\n",
       "    <tr>\n",
       "      <th>17</th>\n",
       "      <td>2010/01/01 17:21:00</td>\n",
       "      <td>AQUA_M-T</td>\n",
       "      <td>Brasil</td>\n",
       "      <td>AMAZONAS</td>\n",
       "      <td>TEFE</td>\n",
       "      <td>Amazon</td>\n",
       "      <td>NaN</td>\n",
       "      <td>NaN</td>\n",
       "      <td>NaN</td>\n",
       "      <td>-3.462</td>\n",
       "      <td>-64.492</td>\n",
       "      <td>NaN</td>\n",
       "    </tr>\n",
       "    <tr>\n",
       "      <th>18</th>\n",
       "      <td>2010/01/01 17:21:00</td>\n",
       "      <td>AQUA_M-T</td>\n",
       "      <td>Brasil</td>\n",
       "      <td>AMAZONAS</td>\n",
       "      <td>TEFE</td>\n",
       "      <td>Amazon</td>\n",
       "      <td>NaN</td>\n",
       "      <td>NaN</td>\n",
       "      <td>NaN</td>\n",
       "      <td>-3.657</td>\n",
       "      <td>-64.586</td>\n",
       "      <td>NaN</td>\n",
       "    </tr>\n",
       "    <tr>\n",
       "      <th>19</th>\n",
       "      <td>2010/01/01 17:21:00</td>\n",
       "      <td>AQUA_M-T</td>\n",
       "      <td>Brasil</td>\n",
       "      <td>AMAZONAS</td>\n",
       "      <td>TEFE</td>\n",
       "      <td>Amazon</td>\n",
       "      <td>NaN</td>\n",
       "      <td>NaN</td>\n",
       "      <td>NaN</td>\n",
       "      <td>-3.649</td>\n",
       "      <td>-64.580</td>\n",
       "      <td>NaN</td>\n",
       "    </tr>\n",
       "  </tbody>\n",
       "</table>\n",
       "</div>"
      ],
      "text/plain": [
       "               datetime satellite country        state   county   biome  \\\n",
       "15  2010/01/01 17:19:00  AQUA_M-T  Brasil  MATO GROSSO  COLNIZA  Amazon   \n",
       "16  2010/01/01 17:21:00  AQUA_M-T  Brasil     AMAZONAS     TEFE  Amazon   \n",
       "17  2010/01/01 17:21:00  AQUA_M-T  Brasil     AMAZONAS     TEFE  Amazon   \n",
       "18  2010/01/01 17:21:00  AQUA_M-T  Brasil     AMAZONAS     TEFE  Amazon   \n",
       "19  2010/01/01 17:21:00  AQUA_M-T  Brasil     AMAZONAS     TEFE  Amazon   \n",
       "\n",
       "    daywithoutrain  rainfall  firerisk  latitude  longitude  frp  \n",
       "15             NaN       NaN       NaN    -9.465    -59.199  NaN  \n",
       "16             NaN       NaN       NaN    -3.466    -64.524  NaN  \n",
       "17             NaN       NaN       NaN    -3.462    -64.492  NaN  \n",
       "18             NaN       NaN       NaN    -3.657    -64.586  NaN  \n",
       "19             NaN       NaN       NaN    -3.649    -64.580  NaN  "
      ]
     },
     "execution_count": 6,
     "metadata": {},
     "output_type": "execute_result"
    }
   ],
   "source": [
    "# the portuguese translation for Amazon is \"Amazonia\". Let's filter rows with this biome and change it's name\n",
    "\n",
    "df = df[df.biome == 'Amazonia'] #filtering rows with \"Amazonia\" \n",
    "df['biome'] = df['biome'].map({'Amazonia':'Amazon'}, na_action=None) #replace velues with the english translation\n",
    "\n",
    "df.head()"
   ]
  },
  {
   "cell_type": "code",
   "execution_count": 7,
   "id": "3fded361",
   "metadata": {},
   "outputs": [
    {
     "data": {
      "text/plain": [
       "(983081, 12)"
      ]
     },
     "execution_count": 7,
     "metadata": {},
     "output_type": "execute_result"
    }
   ],
   "source": [
    "df.shape #let's see how many observations we have"
   ]
  },
  {
   "cell_type": "markdown",
   "id": "fccb75df",
   "metadata": {},
   "source": [
    "Now, we have to drop some redundant columns (Like country and satellite), because it's only one value"
   ]
  },
  {
   "cell_type": "code",
   "execution_count": 8,
   "id": "138881b1",
   "metadata": {},
   "outputs": [
    {
     "data": {
      "text/html": [
       "<div>\n",
       "<style scoped>\n",
       "    .dataframe tbody tr th:only-of-type {\n",
       "        vertical-align: middle;\n",
       "    }\n",
       "\n",
       "    .dataframe tbody tr th {\n",
       "        vertical-align: top;\n",
       "    }\n",
       "\n",
       "    .dataframe thead th {\n",
       "        text-align: right;\n",
       "    }\n",
       "</style>\n",
       "<table border=\"1\" class=\"dataframe\">\n",
       "  <thead>\n",
       "    <tr style=\"text-align: right;\">\n",
       "      <th></th>\n",
       "      <th>datetime</th>\n",
       "      <th>state</th>\n",
       "      <th>county</th>\n",
       "      <th>biome</th>\n",
       "      <th>daywithoutrain</th>\n",
       "      <th>rainfall</th>\n",
       "      <th>firerisk</th>\n",
       "      <th>latitude</th>\n",
       "      <th>longitude</th>\n",
       "    </tr>\n",
       "  </thead>\n",
       "  <tbody>\n",
       "    <tr>\n",
       "      <th>0</th>\n",
       "      <td>2010/01/01 17:19:00</td>\n",
       "      <td>MATO GROSSO</td>\n",
       "      <td>COLNIZA</td>\n",
       "      <td>Amazon</td>\n",
       "      <td>NaN</td>\n",
       "      <td>NaN</td>\n",
       "      <td>NaN</td>\n",
       "      <td>-9.465</td>\n",
       "      <td>-59.199</td>\n",
       "    </tr>\n",
       "    <tr>\n",
       "      <th>1</th>\n",
       "      <td>2010/01/01 17:21:00</td>\n",
       "      <td>AMAZONAS</td>\n",
       "      <td>TEFE</td>\n",
       "      <td>Amazon</td>\n",
       "      <td>NaN</td>\n",
       "      <td>NaN</td>\n",
       "      <td>NaN</td>\n",
       "      <td>-3.466</td>\n",
       "      <td>-64.524</td>\n",
       "    </tr>\n",
       "    <tr>\n",
       "      <th>2</th>\n",
       "      <td>2010/01/01 17:21:00</td>\n",
       "      <td>AMAZONAS</td>\n",
       "      <td>TEFE</td>\n",
       "      <td>Amazon</td>\n",
       "      <td>NaN</td>\n",
       "      <td>NaN</td>\n",
       "      <td>NaN</td>\n",
       "      <td>-3.462</td>\n",
       "      <td>-64.492</td>\n",
       "    </tr>\n",
       "    <tr>\n",
       "      <th>3</th>\n",
       "      <td>2010/01/01 17:21:00</td>\n",
       "      <td>AMAZONAS</td>\n",
       "      <td>TEFE</td>\n",
       "      <td>Amazon</td>\n",
       "      <td>NaN</td>\n",
       "      <td>NaN</td>\n",
       "      <td>NaN</td>\n",
       "      <td>-3.657</td>\n",
       "      <td>-64.586</td>\n",
       "    </tr>\n",
       "    <tr>\n",
       "      <th>4</th>\n",
       "      <td>2010/01/01 17:21:00</td>\n",
       "      <td>AMAZONAS</td>\n",
       "      <td>TEFE</td>\n",
       "      <td>Amazon</td>\n",
       "      <td>NaN</td>\n",
       "      <td>NaN</td>\n",
       "      <td>NaN</td>\n",
       "      <td>-3.649</td>\n",
       "      <td>-64.580</td>\n",
       "    </tr>\n",
       "  </tbody>\n",
       "</table>\n",
       "</div>"
      ],
      "text/plain": [
       "              datetime        state   county   biome  daywithoutrain  \\\n",
       "0  2010/01/01 17:19:00  MATO GROSSO  COLNIZA  Amazon             NaN   \n",
       "1  2010/01/01 17:21:00     AMAZONAS     TEFE  Amazon             NaN   \n",
       "2  2010/01/01 17:21:00     AMAZONAS     TEFE  Amazon             NaN   \n",
       "3  2010/01/01 17:21:00     AMAZONAS     TEFE  Amazon             NaN   \n",
       "4  2010/01/01 17:21:00     AMAZONAS     TEFE  Amazon             NaN   \n",
       "\n",
       "   rainfall  firerisk  latitude  longitude  \n",
       "0       NaN       NaN    -9.465    -59.199  \n",
       "1       NaN       NaN    -3.466    -64.524  \n",
       "2       NaN       NaN    -3.462    -64.492  \n",
       "3       NaN       NaN    -3.657    -64.586  \n",
       "4       NaN       NaN    -3.649    -64.580  "
      ]
     },
     "execution_count": 8,
     "metadata": {},
     "output_type": "execute_result"
    }
   ],
   "source": [
    "df = df.drop(columns = ['satellite', 'country', 'frp'])\n",
    "\n",
    "df = df.reset_index().drop(columns = ['index']) #that's something i forget to do in the previous step\n",
    "\n",
    "df.head()"
   ]
  },
  {
   "cell_type": "markdown",
   "id": "92622c1b",
   "metadata": {},
   "source": [
    "Now, we are about to see the column's type of data"
   ]
  },
  {
   "cell_type": "code",
   "execution_count": 9,
   "id": "dd2c0731",
   "metadata": {},
   "outputs": [
    {
     "name": "stdout",
     "output_type": "stream",
     "text": [
      "<class 'pandas.core.frame.DataFrame'>\n",
      "RangeIndex: 983081 entries, 0 to 983080\n",
      "Data columns (total 9 columns):\n",
      " #   Column          Non-Null Count   Dtype  \n",
      "---  ------          --------------   -----  \n",
      " 0   datetime        983081 non-null  object \n",
      " 1   state           983081 non-null  object \n",
      " 2   county          983081 non-null  object \n",
      " 3   biome           983081 non-null  object \n",
      " 4   daywithoutrain  642370 non-null  float64\n",
      " 5   rainfall        642370 non-null  float64\n",
      " 6   firerisk        642370 non-null  float64\n",
      " 7   latitude        983081 non-null  float64\n",
      " 8   longitude       983081 non-null  float64\n",
      "dtypes: float64(5), object(4)\n",
      "memory usage: 67.5+ MB\n"
     ]
    }
   ],
   "source": [
    "df.info()"
   ]
  },
  {
   "cell_type": "markdown",
   "id": "996af802",
   "metadata": {},
   "source": [
    "As we can see, the \"datetime\" column are labeled as an object type (and doesn't), let's change this for a datetime format"
   ]
  },
  {
   "cell_type": "code",
   "execution_count": 10,
   "id": "fc1cb4a4",
   "metadata": {},
   "outputs": [
    {
     "name": "stdout",
     "output_type": "stream",
     "text": [
      "<class 'pandas.core.frame.DataFrame'>\n",
      "RangeIndex: 983081 entries, 0 to 983080\n",
      "Data columns (total 9 columns):\n",
      " #   Column          Non-Null Count   Dtype         \n",
      "---  ------          --------------   -----         \n",
      " 0   datetime        983081 non-null  datetime64[ns]\n",
      " 1   state           983081 non-null  object        \n",
      " 2   county          983081 non-null  object        \n",
      " 3   biome           983081 non-null  object        \n",
      " 4   daywithoutrain  642370 non-null  float64       \n",
      " 5   rainfall        642370 non-null  float64       \n",
      " 6   firerisk        642370 non-null  float64       \n",
      " 7   latitude        983081 non-null  float64       \n",
      " 8   longitude       983081 non-null  float64       \n",
      "dtypes: datetime64[ns](1), float64(5), object(3)\n",
      "memory usage: 67.5+ MB\n"
     ]
    }
   ],
   "source": [
    "df['datetime'] = pd.to_datetime(df['datetime'], errors = 'coerce')\n",
    "\n",
    "df.info()"
   ]
  },
  {
   "cell_type": "markdown",
   "id": "7c620b0e",
   "metadata": {},
   "source": [
    "Now, we have our columns correctly formatted."
   ]
  },
  {
   "cell_type": "markdown",
   "id": "da569962",
   "metadata": {},
   "source": [
    "#### Working with dates and times"
   ]
  },
  {
   "cell_type": "code",
   "execution_count": 11,
   "id": "90775b91",
   "metadata": {},
   "outputs": [],
   "source": [
    "#Importing the datetime library for datetime manipulation\n",
    "\n",
    "from datetime import datetime"
   ]
  },
  {
   "cell_type": "code",
   "execution_count": 12,
   "id": "28c026f9",
   "metadata": {},
   "outputs": [
    {
     "data": {
      "text/html": [
       "<div>\n",
       "<style scoped>\n",
       "    .dataframe tbody tr th:only-of-type {\n",
       "        vertical-align: middle;\n",
       "    }\n",
       "\n",
       "    .dataframe tbody tr th {\n",
       "        vertical-align: top;\n",
       "    }\n",
       "\n",
       "    .dataframe thead th {\n",
       "        text-align: right;\n",
       "    }\n",
       "</style>\n",
       "<table border=\"1\" class=\"dataframe\">\n",
       "  <thead>\n",
       "    <tr style=\"text-align: right;\">\n",
       "      <th></th>\n",
       "      <th>state</th>\n",
       "      <th>county</th>\n",
       "      <th>biome</th>\n",
       "      <th>daywithoutrain</th>\n",
       "      <th>rainfall</th>\n",
       "      <th>firerisk</th>\n",
       "      <th>latitude</th>\n",
       "      <th>longitude</th>\n",
       "      <th>date</th>\n",
       "    </tr>\n",
       "  </thead>\n",
       "  <tbody>\n",
       "    <tr>\n",
       "      <th>0</th>\n",
       "      <td>MATO GROSSO</td>\n",
       "      <td>COLNIZA</td>\n",
       "      <td>Amazon</td>\n",
       "      <td>NaN</td>\n",
       "      <td>NaN</td>\n",
       "      <td>NaN</td>\n",
       "      <td>-9.465</td>\n",
       "      <td>-59.199</td>\n",
       "      <td>2010-01-01</td>\n",
       "    </tr>\n",
       "    <tr>\n",
       "      <th>1</th>\n",
       "      <td>AMAZONAS</td>\n",
       "      <td>TEFE</td>\n",
       "      <td>Amazon</td>\n",
       "      <td>NaN</td>\n",
       "      <td>NaN</td>\n",
       "      <td>NaN</td>\n",
       "      <td>-3.466</td>\n",
       "      <td>-64.524</td>\n",
       "      <td>2010-01-01</td>\n",
       "    </tr>\n",
       "    <tr>\n",
       "      <th>2</th>\n",
       "      <td>AMAZONAS</td>\n",
       "      <td>TEFE</td>\n",
       "      <td>Amazon</td>\n",
       "      <td>NaN</td>\n",
       "      <td>NaN</td>\n",
       "      <td>NaN</td>\n",
       "      <td>-3.462</td>\n",
       "      <td>-64.492</td>\n",
       "      <td>2010-01-01</td>\n",
       "    </tr>\n",
       "    <tr>\n",
       "      <th>3</th>\n",
       "      <td>AMAZONAS</td>\n",
       "      <td>TEFE</td>\n",
       "      <td>Amazon</td>\n",
       "      <td>NaN</td>\n",
       "      <td>NaN</td>\n",
       "      <td>NaN</td>\n",
       "      <td>-3.657</td>\n",
       "      <td>-64.586</td>\n",
       "      <td>2010-01-01</td>\n",
       "    </tr>\n",
       "    <tr>\n",
       "      <th>4</th>\n",
       "      <td>AMAZONAS</td>\n",
       "      <td>TEFE</td>\n",
       "      <td>Amazon</td>\n",
       "      <td>NaN</td>\n",
       "      <td>NaN</td>\n",
       "      <td>NaN</td>\n",
       "      <td>-3.649</td>\n",
       "      <td>-64.580</td>\n",
       "      <td>2010-01-01</td>\n",
       "    </tr>\n",
       "  </tbody>\n",
       "</table>\n",
       "</div>"
      ],
      "text/plain": [
       "         state   county   biome  daywithoutrain  rainfall  firerisk  latitude  \\\n",
       "0  MATO GROSSO  COLNIZA  Amazon             NaN       NaN       NaN    -9.465   \n",
       "1     AMAZONAS     TEFE  Amazon             NaN       NaN       NaN    -3.466   \n",
       "2     AMAZONAS     TEFE  Amazon             NaN       NaN       NaN    -3.462   \n",
       "3     AMAZONAS     TEFE  Amazon             NaN       NaN       NaN    -3.657   \n",
       "4     AMAZONAS     TEFE  Amazon             NaN       NaN       NaN    -3.649   \n",
       "\n",
       "   longitude       date  \n",
       "0    -59.199 2010-01-01  \n",
       "1    -64.524 2010-01-01  \n",
       "2    -64.492 2010-01-01  \n",
       "3    -64.586 2010-01-01  \n",
       "4    -64.580 2010-01-01  "
      ]
     },
     "execution_count": 12,
     "metadata": {},
     "output_type": "execute_result"
    }
   ],
   "source": [
    "df['date'] = df['datetime'].dt.date\n",
    "\n",
    "df = df.drop(columns = ['datetime'])\n",
    "\n",
    "df['date'] = pd.to_datetime(df['date'], errors = 'coerce')\n",
    "\n",
    "df.head()"
   ]
  },
  {
   "cell_type": "markdown",
   "id": "d8633697",
   "metadata": {},
   "source": [
    "#### Fill nulled values"
   ]
  },
  {
   "cell_type": "markdown",
   "id": "025f2601",
   "metadata": {},
   "source": [
    "To understand how we can fill these nulled values, let's see how many are"
   ]
  },
  {
   "cell_type": "code",
   "execution_count": 13,
   "id": "2acf1817",
   "metadata": {},
   "outputs": [
    {
     "data": {
      "text/plain": [
       "state                  0\n",
       "county                 0\n",
       "biome                  0\n",
       "daywithoutrain    340711\n",
       "rainfall          340711\n",
       "firerisk          340711\n",
       "latitude               0\n",
       "longitude              0\n",
       "date                   0\n",
       "dtype: int64"
      ]
     },
     "execution_count": 13,
     "metadata": {},
     "output_type": "execute_result"
    }
   ],
   "source": [
    "df.isnull().sum()"
   ]
  },
  {
   "cell_type": "markdown",
   "id": "2ee11edf",
   "metadata": {},
   "source": [
    "We can see a great number of nulled values in some columns. Let's focus on the filled values."
   ]
  },
  {
   "cell_type": "code",
   "execution_count": 14,
   "id": "62817626",
   "metadata": {
    "scrolled": true
   },
   "outputs": [
    {
     "data": {
      "text/html": [
       "<div>\n",
       "<style scoped>\n",
       "    .dataframe tbody tr th:only-of-type {\n",
       "        vertical-align: middle;\n",
       "    }\n",
       "\n",
       "    .dataframe tbody tr th {\n",
       "        vertical-align: top;\n",
       "    }\n",
       "\n",
       "    .dataframe thead th {\n",
       "        text-align: right;\n",
       "    }\n",
       "</style>\n",
       "<table border=\"1\" class=\"dataframe\">\n",
       "  <thead>\n",
       "    <tr style=\"text-align: right;\">\n",
       "      <th></th>\n",
       "      <th>state</th>\n",
       "      <th>county</th>\n",
       "      <th>biome</th>\n",
       "      <th>daywithoutrain</th>\n",
       "      <th>rainfall</th>\n",
       "      <th>firerisk</th>\n",
       "      <th>latitude</th>\n",
       "      <th>longitude</th>\n",
       "      <th>date</th>\n",
       "    </tr>\n",
       "  </thead>\n",
       "  <tbody>\n",
       "    <tr>\n",
       "      <th>983076</th>\n",
       "      <td>AMAZONAS</td>\n",
       "      <td>HUMAITA</td>\n",
       "      <td>Amazon</td>\n",
       "      <td>2.0</td>\n",
       "      <td>0.0</td>\n",
       "      <td>0.2</td>\n",
       "      <td>-7.967</td>\n",
       "      <td>-63.496</td>\n",
       "      <td>2020-07-10</td>\n",
       "    </tr>\n",
       "    <tr>\n",
       "      <th>983077</th>\n",
       "      <td>MATO GROSSO</td>\n",
       "      <td>COLNIZA</td>\n",
       "      <td>Amazon</td>\n",
       "      <td>23.0</td>\n",
       "      <td>0.0</td>\n",
       "      <td>0.7</td>\n",
       "      <td>-9.120</td>\n",
       "      <td>-59.092</td>\n",
       "      <td>2020-07-10</td>\n",
       "    </tr>\n",
       "    <tr>\n",
       "      <th>983078</th>\n",
       "      <td>PARA</td>\n",
       "      <td>PARAGOMINAS</td>\n",
       "      <td>Amazon</td>\n",
       "      <td>10.0</td>\n",
       "      <td>0.0</td>\n",
       "      <td>0.3</td>\n",
       "      <td>-3.183</td>\n",
       "      <td>-47.246</td>\n",
       "      <td>2020-07-11</td>\n",
       "    </tr>\n",
       "    <tr>\n",
       "      <th>983079</th>\n",
       "      <td>PARA</td>\n",
       "      <td>TOME-ACU</td>\n",
       "      <td>Amazon</td>\n",
       "      <td>10.0</td>\n",
       "      <td>1.8</td>\n",
       "      <td>0.1</td>\n",
       "      <td>-2.840</td>\n",
       "      <td>-48.110</td>\n",
       "      <td>2020-07-11</td>\n",
       "    </tr>\n",
       "    <tr>\n",
       "      <th>983080</th>\n",
       "      <td>PARA</td>\n",
       "      <td>PORTEL</td>\n",
       "      <td>Amazon</td>\n",
       "      <td>2.0</td>\n",
       "      <td>1.6</td>\n",
       "      <td>0.1</td>\n",
       "      <td>-2.371</td>\n",
       "      <td>-50.491</td>\n",
       "      <td>2020-07-11</td>\n",
       "    </tr>\n",
       "  </tbody>\n",
       "</table>\n",
       "</div>"
      ],
      "text/plain": [
       "              state       county   biome  daywithoutrain  rainfall  firerisk  \\\n",
       "983076     AMAZONAS      HUMAITA  Amazon             2.0       0.0       0.2   \n",
       "983077  MATO GROSSO      COLNIZA  Amazon            23.0       0.0       0.7   \n",
       "983078         PARA  PARAGOMINAS  Amazon            10.0       0.0       0.3   \n",
       "983079         PARA     TOME-ACU  Amazon            10.0       1.8       0.1   \n",
       "983080         PARA       PORTEL  Amazon             2.0       1.6       0.1   \n",
       "\n",
       "        latitude  longitude       date  \n",
       "983076    -7.967    -63.496 2020-07-10  \n",
       "983077    -9.120    -59.092 2020-07-10  \n",
       "983078    -3.183    -47.246 2020-07-11  \n",
       "983079    -2.840    -48.110 2020-07-11  \n",
       "983080    -2.371    -50.491 2020-07-11  "
      ]
     },
     "execution_count": 14,
     "metadata": {},
     "output_type": "execute_result"
    }
   ],
   "source": [
    "df.tail() #let's see the last rows of the dataset"
   ]
  },
  {
   "cell_type": "code",
   "execution_count": 15,
   "id": "9673fcd4",
   "metadata": {},
   "outputs": [
    {
     "data": {
      "text/plain": [
       "array(['MATO GROSSO', 'AMAZONAS', 'RORAIMA', 'RONDONIA', 'MARANHAO',\n",
       "       'PARA', 'ACRE', 'AMAPA', 'TOCANTINS'], dtype=object)"
      ]
     },
     "execution_count": 15,
     "metadata": {},
     "output_type": "execute_result"
    }
   ],
   "source": [
    "df['state'].unique() #let's see the states that the amazon rainforest covers"
   ]
  },
  {
   "cell_type": "markdown",
   "id": "cb8798dc",
   "metadata": {},
   "source": [
    "In \"state\" column, some states belongs to the north region, but two states (MATO GROSSO and MARANHAO) are not. In a quick research, we can found that MATO GROSSO belongs to middlewest region and MARANHAO belongs to northeast region. To fullfill the dataset with more information, let's include those informations in a column called \"region\".\n",
    "\n",
    "After this, we need to classify our risk in low, medium and high risk. To do this, we're do tha same steps of the \"region\" column"
   ]
  },
  {
   "cell_type": "code",
   "execution_count": 16,
   "id": "34f1ce2e",
   "metadata": {
    "scrolled": true
   },
   "outputs": [
    {
     "data": {
      "text/html": [
       "<div>\n",
       "<style scoped>\n",
       "    .dataframe tbody tr th:only-of-type {\n",
       "        vertical-align: middle;\n",
       "    }\n",
       "\n",
       "    .dataframe tbody tr th {\n",
       "        vertical-align: top;\n",
       "    }\n",
       "\n",
       "    .dataframe thead th {\n",
       "        text-align: right;\n",
       "    }\n",
       "</style>\n",
       "<table border=\"1\" class=\"dataframe\">\n",
       "  <thead>\n",
       "    <tr style=\"text-align: right;\">\n",
       "      <th></th>\n",
       "      <th>state</th>\n",
       "      <th>county</th>\n",
       "      <th>biome</th>\n",
       "      <th>daywithoutrain</th>\n",
       "      <th>rainfall</th>\n",
       "      <th>firerisk</th>\n",
       "      <th>latitude</th>\n",
       "      <th>longitude</th>\n",
       "      <th>date</th>\n",
       "      <th>region</th>\n",
       "    </tr>\n",
       "  </thead>\n",
       "  <tbody>\n",
       "    <tr>\n",
       "      <th>983076</th>\n",
       "      <td>AMAZONAS</td>\n",
       "      <td>HUMAITA</td>\n",
       "      <td>Amazon</td>\n",
       "      <td>2.0</td>\n",
       "      <td>0.0</td>\n",
       "      <td>0.2</td>\n",
       "      <td>-7.967</td>\n",
       "      <td>-63.496</td>\n",
       "      <td>2020-07-10</td>\n",
       "      <td>NORTH</td>\n",
       "    </tr>\n",
       "    <tr>\n",
       "      <th>983077</th>\n",
       "      <td>MATO GROSSO</td>\n",
       "      <td>COLNIZA</td>\n",
       "      <td>Amazon</td>\n",
       "      <td>23.0</td>\n",
       "      <td>0.0</td>\n",
       "      <td>0.7</td>\n",
       "      <td>-9.120</td>\n",
       "      <td>-59.092</td>\n",
       "      <td>2020-07-10</td>\n",
       "      <td>MIDDLEWEST</td>\n",
       "    </tr>\n",
       "    <tr>\n",
       "      <th>983078</th>\n",
       "      <td>PARA</td>\n",
       "      <td>PARAGOMINAS</td>\n",
       "      <td>Amazon</td>\n",
       "      <td>10.0</td>\n",
       "      <td>0.0</td>\n",
       "      <td>0.3</td>\n",
       "      <td>-3.183</td>\n",
       "      <td>-47.246</td>\n",
       "      <td>2020-07-11</td>\n",
       "      <td>NORTH</td>\n",
       "    </tr>\n",
       "    <tr>\n",
       "      <th>983079</th>\n",
       "      <td>PARA</td>\n",
       "      <td>TOME-ACU</td>\n",
       "      <td>Amazon</td>\n",
       "      <td>10.0</td>\n",
       "      <td>1.8</td>\n",
       "      <td>0.1</td>\n",
       "      <td>-2.840</td>\n",
       "      <td>-48.110</td>\n",
       "      <td>2020-07-11</td>\n",
       "      <td>NORTH</td>\n",
       "    </tr>\n",
       "    <tr>\n",
       "      <th>983080</th>\n",
       "      <td>PARA</td>\n",
       "      <td>PORTEL</td>\n",
       "      <td>Amazon</td>\n",
       "      <td>2.0</td>\n",
       "      <td>1.6</td>\n",
       "      <td>0.1</td>\n",
       "      <td>-2.371</td>\n",
       "      <td>-50.491</td>\n",
       "      <td>2020-07-11</td>\n",
       "      <td>NORTH</td>\n",
       "    </tr>\n",
       "  </tbody>\n",
       "</table>\n",
       "</div>"
      ],
      "text/plain": [
       "              state       county   biome  daywithoutrain  rainfall  firerisk  \\\n",
       "983076     AMAZONAS      HUMAITA  Amazon             2.0       0.0       0.2   \n",
       "983077  MATO GROSSO      COLNIZA  Amazon            23.0       0.0       0.7   \n",
       "983078         PARA  PARAGOMINAS  Amazon            10.0       0.0       0.3   \n",
       "983079         PARA     TOME-ACU  Amazon            10.0       1.8       0.1   \n",
       "983080         PARA       PORTEL  Amazon             2.0       1.6       0.1   \n",
       "\n",
       "        latitude  longitude       date      region  \n",
       "983076    -7.967    -63.496 2020-07-10       NORTH  \n",
       "983077    -9.120    -59.092 2020-07-10  MIDDLEWEST  \n",
       "983078    -3.183    -47.246 2020-07-11       NORTH  \n",
       "983079    -2.840    -48.110 2020-07-11       NORTH  \n",
       "983080    -2.371    -50.491 2020-07-11       NORTH  "
      ]
     },
     "execution_count": 16,
     "metadata": {},
     "output_type": "execute_result"
    }
   ],
   "source": [
    "condition = [df['state']=='MARANHAO', df['state']=='MATO GROSSO']\n",
    "results = ['NORTHEAST', 'MIDDLEWEST']\n",
    "\n",
    "df['region'] = np.select(condition,results,'NORTH')\n",
    "\n",
    "df.tail()"
   ]
  },
  {
   "cell_type": "code",
   "execution_count": 17,
   "id": "cd329c16",
   "metadata": {},
   "outputs": [
    {
     "data": {
      "text/html": [
       "<div>\n",
       "<style scoped>\n",
       "    .dataframe tbody tr th:only-of-type {\n",
       "        vertical-align: middle;\n",
       "    }\n",
       "\n",
       "    .dataframe tbody tr th {\n",
       "        vertical-align: top;\n",
       "    }\n",
       "\n",
       "    .dataframe thead th {\n",
       "        text-align: right;\n",
       "    }\n",
       "</style>\n",
       "<table border=\"1\" class=\"dataframe\">\n",
       "  <thead>\n",
       "    <tr style=\"text-align: right;\">\n",
       "      <th></th>\n",
       "      <th>state</th>\n",
       "      <th>county</th>\n",
       "      <th>biome</th>\n",
       "      <th>daywithoutrain</th>\n",
       "      <th>rainfall</th>\n",
       "      <th>firerisk</th>\n",
       "      <th>latitude</th>\n",
       "      <th>longitude</th>\n",
       "      <th>date</th>\n",
       "      <th>region</th>\n",
       "      <th>risk</th>\n",
       "    </tr>\n",
       "  </thead>\n",
       "  <tbody>\n",
       "    <tr>\n",
       "      <th>983076</th>\n",
       "      <td>AMAZONAS</td>\n",
       "      <td>HUMAITA</td>\n",
       "      <td>Amazon</td>\n",
       "      <td>2.0</td>\n",
       "      <td>0.0</td>\n",
       "      <td>0.2</td>\n",
       "      <td>-7.967</td>\n",
       "      <td>-63.496</td>\n",
       "      <td>2020-07-10</td>\n",
       "      <td>NORTH</td>\n",
       "      <td>low</td>\n",
       "    </tr>\n",
       "    <tr>\n",
       "      <th>983077</th>\n",
       "      <td>MATO GROSSO</td>\n",
       "      <td>COLNIZA</td>\n",
       "      <td>Amazon</td>\n",
       "      <td>23.0</td>\n",
       "      <td>0.0</td>\n",
       "      <td>0.7</td>\n",
       "      <td>-9.120</td>\n",
       "      <td>-59.092</td>\n",
       "      <td>2020-07-10</td>\n",
       "      <td>MIDDLEWEST</td>\n",
       "      <td>medium</td>\n",
       "    </tr>\n",
       "    <tr>\n",
       "      <th>983078</th>\n",
       "      <td>PARA</td>\n",
       "      <td>PARAGOMINAS</td>\n",
       "      <td>Amazon</td>\n",
       "      <td>10.0</td>\n",
       "      <td>0.0</td>\n",
       "      <td>0.3</td>\n",
       "      <td>-3.183</td>\n",
       "      <td>-47.246</td>\n",
       "      <td>2020-07-11</td>\n",
       "      <td>NORTH</td>\n",
       "      <td>low</td>\n",
       "    </tr>\n",
       "    <tr>\n",
       "      <th>983079</th>\n",
       "      <td>PARA</td>\n",
       "      <td>TOME-ACU</td>\n",
       "      <td>Amazon</td>\n",
       "      <td>10.0</td>\n",
       "      <td>1.8</td>\n",
       "      <td>0.1</td>\n",
       "      <td>-2.840</td>\n",
       "      <td>-48.110</td>\n",
       "      <td>2020-07-11</td>\n",
       "      <td>NORTH</td>\n",
       "      <td>low</td>\n",
       "    </tr>\n",
       "    <tr>\n",
       "      <th>983080</th>\n",
       "      <td>PARA</td>\n",
       "      <td>PORTEL</td>\n",
       "      <td>Amazon</td>\n",
       "      <td>2.0</td>\n",
       "      <td>1.6</td>\n",
       "      <td>0.1</td>\n",
       "      <td>-2.371</td>\n",
       "      <td>-50.491</td>\n",
       "      <td>2020-07-11</td>\n",
       "      <td>NORTH</td>\n",
       "      <td>low</td>\n",
       "    </tr>\n",
       "  </tbody>\n",
       "</table>\n",
       "</div>"
      ],
      "text/plain": [
       "              state       county   biome  daywithoutrain  rainfall  firerisk  \\\n",
       "983076     AMAZONAS      HUMAITA  Amazon             2.0       0.0       0.2   \n",
       "983077  MATO GROSSO      COLNIZA  Amazon            23.0       0.0       0.7   \n",
       "983078         PARA  PARAGOMINAS  Amazon            10.0       0.0       0.3   \n",
       "983079         PARA     TOME-ACU  Amazon            10.0       1.8       0.1   \n",
       "983080         PARA       PORTEL  Amazon             2.0       1.6       0.1   \n",
       "\n",
       "        latitude  longitude       date      region    risk  \n",
       "983076    -7.967    -63.496 2020-07-10       NORTH     low  \n",
       "983077    -9.120    -59.092 2020-07-10  MIDDLEWEST  medium  \n",
       "983078    -3.183    -47.246 2020-07-11       NORTH     low  \n",
       "983079    -2.840    -48.110 2020-07-11       NORTH     low  \n",
       "983080    -2.371    -50.491 2020-07-11       NORTH     low  "
      ]
     },
     "execution_count": 17,
     "metadata": {},
     "output_type": "execute_result"
    }
   ],
   "source": [
    "condition = [df['firerisk']<=0.3, df['firerisk']<=0.7]\n",
    "results = ['low', 'medium']\n",
    "\n",
    "df['risk'] = np.select(condition,results,'high')\n",
    "\n",
    "df.tail()"
   ]
  },
  {
   "cell_type": "markdown",
   "id": "5c646b71",
   "metadata": {},
   "source": [
    "#### Strategies for analyze data"
   ]
  },
  {
   "cell_type": "markdown",
   "id": "f5daaf36",
   "metadata": {},
   "source": [
    "Let´s clean our dataset to have the most non nulled values."
   ]
  },
  {
   "cell_type": "code",
   "execution_count": 18,
   "id": "9baaeaac",
   "metadata": {},
   "outputs": [
    {
     "data": {
      "text/plain": [
       "(642370, 11)"
      ]
     },
     "execution_count": 18,
     "metadata": {},
     "output_type": "execute_result"
    }
   ],
   "source": [
    "df_not_navalues = df.dropna() #dropping na values\n",
    "\n",
    "df_not_navalues.shape"
   ]
  },
  {
   "cell_type": "code",
   "execution_count": 19,
   "id": "8e07dee2",
   "metadata": {},
   "outputs": [
    {
     "data": {
      "text/plain": [
       "state             0\n",
       "county            0\n",
       "biome             0\n",
       "daywithoutrain    0\n",
       "rainfall          0\n",
       "firerisk          0\n",
       "latitude          0\n",
       "longitude         0\n",
       "date              0\n",
       "region            0\n",
       "risk              0\n",
       "dtype: int64"
      ]
     },
     "execution_count": 19,
     "metadata": {},
     "output_type": "execute_result"
    }
   ],
   "source": [
    "df_not_navalues.isnull().sum()"
   ]
  },
  {
   "cell_type": "markdown",
   "id": "8230ee7c",
   "metadata": {},
   "source": [
    "As we can see, we have no nulled values. Otherwise, our timeline was completely reduced as we see on the next line"
   ]
  },
  {
   "cell_type": "code",
   "execution_count": 20,
   "id": "e0d17d0d",
   "metadata": {},
   "outputs": [
    {
     "data": {
      "text/plain": [
       "array([2014, 2015, 2016, 2017, 2018, 2019, 2020], dtype=int64)"
      ]
     },
     "execution_count": 20,
     "metadata": {},
     "output_type": "execute_result"
    }
   ],
   "source": [
    "df_not_navalues['date'].dt.year.unique() #the years for analyze"
   ]
  },
  {
   "cell_type": "markdown",
   "id": "8e260b01",
   "metadata": {},
   "source": [
    "With database cleaned, let's make some analysis"
   ]
  },
  {
   "cell_type": "markdown",
   "id": "136ad234",
   "metadata": {},
   "source": [
    "# For now, we're continue our project in tableau!!"
   ]
  },
  {
   "cell_type": "code",
   "execution_count": 21,
   "id": "6958d573",
   "metadata": {},
   "outputs": [],
   "source": [
    "df_not_navalues.to_csv('data_cleaned.csv', index=False) #exporting data for a .csv file"
   ]
  }
 ],
 "metadata": {
  "kernelspec": {
   "display_name": "Python 3 (ipykernel)",
   "language": "python",
   "name": "python3"
  },
  "language_info": {
   "codemirror_mode": {
    "name": "ipython",
    "version": 3
   },
   "file_extension": ".py",
   "mimetype": "text/x-python",
   "name": "python",
   "nbconvert_exporter": "python",
   "pygments_lexer": "ipython3",
   "version": "3.9.7"
  }
 },
 "nbformat": 4,
 "nbformat_minor": 5
}
